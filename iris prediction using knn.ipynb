{
 "cells": [
  {
   "cell_type": "markdown",
   "id": "2e073ffa",
   "metadata": {},
   "source": [
    "# Intro:\n",
    "## Studying the difference between different distance metric and different k values in \n",
    "## K Neighbors Classifier"
   ]
  },
  {
   "cell_type": "markdown",
   "id": "749e1774",
   "metadata": {},
   "source": [
    "## Importing the needed libraries and functions"
   ]
  },
  {
   "cell_type": "code",
   "execution_count": 1,
   "id": "5bd3f880",
   "metadata": {},
   "outputs": [],
   "source": [
    "import pandas as pd\n",
    "from sklearn.neighbors import KNeighborsClassifier\n",
    "import seaborn as sns\n",
    "import matplotlib.pyplot as plt\n",
    "sns.set()"
   ]
  },
  {
   "cell_type": "markdown",
   "id": "413d0697",
   "metadata": {},
   "source": [
    "## Loading the dataset"
   ]
  },
  {
   "cell_type": "code",
   "execution_count": 2,
   "id": "ae98195d",
   "metadata": {
    "scrolled": true
   },
   "outputs": [],
   "source": [
    "data = sns.load_dataset('iris')"
   ]
  },
  {
   "cell_type": "code",
   "execution_count": 3,
   "id": "7a6bb572",
   "metadata": {},
   "outputs": [
    {
     "data": {
      "text/html": [
       "<div>\n",
       "<style scoped>\n",
       "    .dataframe tbody tr th:only-of-type {\n",
       "        vertical-align: middle;\n",
       "    }\n",
       "\n",
       "    .dataframe tbody tr th {\n",
       "        vertical-align: top;\n",
       "    }\n",
       "\n",
       "    .dataframe thead th {\n",
       "        text-align: right;\n",
       "    }\n",
       "</style>\n",
       "<table border=\"1\" class=\"dataframe\">\n",
       "  <thead>\n",
       "    <tr style=\"text-align: right;\">\n",
       "      <th></th>\n",
       "      <th>sepal_length</th>\n",
       "      <th>sepal_width</th>\n",
       "      <th>petal_length</th>\n",
       "      <th>petal_width</th>\n",
       "      <th>species</th>\n",
       "    </tr>\n",
       "  </thead>\n",
       "  <tbody>\n",
       "    <tr>\n",
       "      <th>0</th>\n",
       "      <td>5.1</td>\n",
       "      <td>3.5</td>\n",
       "      <td>1.4</td>\n",
       "      <td>0.2</td>\n",
       "      <td>setosa</td>\n",
       "    </tr>\n",
       "    <tr>\n",
       "      <th>1</th>\n",
       "      <td>4.9</td>\n",
       "      <td>3.0</td>\n",
       "      <td>1.4</td>\n",
       "      <td>0.2</td>\n",
       "      <td>setosa</td>\n",
       "    </tr>\n",
       "    <tr>\n",
       "      <th>2</th>\n",
       "      <td>4.7</td>\n",
       "      <td>3.2</td>\n",
       "      <td>1.3</td>\n",
       "      <td>0.2</td>\n",
       "      <td>setosa</td>\n",
       "    </tr>\n",
       "    <tr>\n",
       "      <th>3</th>\n",
       "      <td>4.6</td>\n",
       "      <td>3.1</td>\n",
       "      <td>1.5</td>\n",
       "      <td>0.2</td>\n",
       "      <td>setosa</td>\n",
       "    </tr>\n",
       "    <tr>\n",
       "      <th>4</th>\n",
       "      <td>5.0</td>\n",
       "      <td>3.6</td>\n",
       "      <td>1.4</td>\n",
       "      <td>0.2</td>\n",
       "      <td>setosa</td>\n",
       "    </tr>\n",
       "  </tbody>\n",
       "</table>\n",
       "</div>"
      ],
      "text/plain": [
       "   sepal_length  sepal_width  petal_length  petal_width species\n",
       "0           5.1          3.5           1.4          0.2  setosa\n",
       "1           4.9          3.0           1.4          0.2  setosa\n",
       "2           4.7          3.2           1.3          0.2  setosa\n",
       "3           4.6          3.1           1.5          0.2  setosa\n",
       "4           5.0          3.6           1.4          0.2  setosa"
      ]
     },
     "execution_count": 3,
     "metadata": {},
     "output_type": "execute_result"
    }
   ],
   "source": [
    "data.head()"
   ]
  },
  {
   "cell_type": "markdown",
   "id": "209a9e67",
   "metadata": {},
   "source": [
    "## Shuffling the data to take random set for training and testing for only one time an saving the shiffeld dataset\n",
    "### The random set for unbiased set"
   ]
  },
  {
   "cell_type": "markdown",
   "id": "24d069e8",
   "metadata": {},
   "source": [
    "## Note\n",
    "### Run this cell only one time"
   ]
  },
  {
   "cell_type": "code",
   "execution_count": 4,
   "id": "0ad92c3f",
   "metadata": {},
   "outputs": [
    {
     "data": {
      "text/html": [
       "<div>\n",
       "<style scoped>\n",
       "    .dataframe tbody tr th:only-of-type {\n",
       "        vertical-align: middle;\n",
       "    }\n",
       "\n",
       "    .dataframe tbody tr th {\n",
       "        vertical-align: top;\n",
       "    }\n",
       "\n",
       "    .dataframe thead th {\n",
       "        text-align: right;\n",
       "    }\n",
       "</style>\n",
       "<table border=\"1\" class=\"dataframe\">\n",
       "  <thead>\n",
       "    <tr style=\"text-align: right;\">\n",
       "      <th></th>\n",
       "      <th>sepal_length</th>\n",
       "      <th>sepal_width</th>\n",
       "      <th>petal_length</th>\n",
       "      <th>petal_width</th>\n",
       "      <th>species</th>\n",
       "    </tr>\n",
       "  </thead>\n",
       "  <tbody>\n",
       "    <tr>\n",
       "      <th>0</th>\n",
       "      <td>6.7</td>\n",
       "      <td>3.1</td>\n",
       "      <td>4.7</td>\n",
       "      <td>1.5</td>\n",
       "      <td>versicolor</td>\n",
       "    </tr>\n",
       "    <tr>\n",
       "      <th>1</th>\n",
       "      <td>6.6</td>\n",
       "      <td>3.0</td>\n",
       "      <td>4.4</td>\n",
       "      <td>1.4</td>\n",
       "      <td>versicolor</td>\n",
       "    </tr>\n",
       "    <tr>\n",
       "      <th>2</th>\n",
       "      <td>4.6</td>\n",
       "      <td>3.2</td>\n",
       "      <td>1.4</td>\n",
       "      <td>0.2</td>\n",
       "      <td>setosa</td>\n",
       "    </tr>\n",
       "    <tr>\n",
       "      <th>3</th>\n",
       "      <td>6.3</td>\n",
       "      <td>2.3</td>\n",
       "      <td>4.4</td>\n",
       "      <td>1.3</td>\n",
       "      <td>versicolor</td>\n",
       "    </tr>\n",
       "    <tr>\n",
       "      <th>4</th>\n",
       "      <td>4.6</td>\n",
       "      <td>3.6</td>\n",
       "      <td>1.0</td>\n",
       "      <td>0.2</td>\n",
       "      <td>setosa</td>\n",
       "    </tr>\n",
       "  </tbody>\n",
       "</table>\n",
       "</div>"
      ],
      "text/plain": [
       "   sepal_length  sepal_width  petal_length  petal_width     species\n",
       "0           6.7          3.1           4.7          1.5  versicolor\n",
       "1           6.6          3.0           4.4          1.4  versicolor\n",
       "2           4.6          3.2           1.4          0.2      setosa\n",
       "3           6.3          2.3           4.4          1.3  versicolor\n",
       "4           4.6          3.6           1.0          0.2      setosa"
      ]
     },
     "execution_count": 4,
     "metadata": {},
     "output_type": "execute_result"
    }
   ],
   "source": [
    "data = data.sample(frac=1).reset_index(drop=True)\n",
    "data.to_csv('iris150.csv',index = False, header=True)\n",
    "data.head()"
   ]
  },
  {
   "cell_type": "markdown",
   "id": "57691b9f",
   "metadata": {},
   "source": [
    "## Then read data from here"
   ]
  },
  {
   "cell_type": "code",
   "execution_count": 5,
   "id": "0459d2e1",
   "metadata": {},
   "outputs": [
    {
     "data": {
      "text/html": [
       "<div>\n",
       "<style scoped>\n",
       "    .dataframe tbody tr th:only-of-type {\n",
       "        vertical-align: middle;\n",
       "    }\n",
       "\n",
       "    .dataframe tbody tr th {\n",
       "        vertical-align: top;\n",
       "    }\n",
       "\n",
       "    .dataframe thead th {\n",
       "        text-align: right;\n",
       "    }\n",
       "</style>\n",
       "<table border=\"1\" class=\"dataframe\">\n",
       "  <thead>\n",
       "    <tr style=\"text-align: right;\">\n",
       "      <th></th>\n",
       "      <th>sepal_length</th>\n",
       "      <th>sepal_width</th>\n",
       "      <th>petal_length</th>\n",
       "      <th>petal_width</th>\n",
       "      <th>species</th>\n",
       "    </tr>\n",
       "  </thead>\n",
       "  <tbody>\n",
       "    <tr>\n",
       "      <th>0</th>\n",
       "      <td>6.7</td>\n",
       "      <td>3.1</td>\n",
       "      <td>4.7</td>\n",
       "      <td>1.5</td>\n",
       "      <td>versicolor</td>\n",
       "    </tr>\n",
       "    <tr>\n",
       "      <th>1</th>\n",
       "      <td>6.6</td>\n",
       "      <td>3.0</td>\n",
       "      <td>4.4</td>\n",
       "      <td>1.4</td>\n",
       "      <td>versicolor</td>\n",
       "    </tr>\n",
       "    <tr>\n",
       "      <th>2</th>\n",
       "      <td>4.6</td>\n",
       "      <td>3.2</td>\n",
       "      <td>1.4</td>\n",
       "      <td>0.2</td>\n",
       "      <td>setosa</td>\n",
       "    </tr>\n",
       "    <tr>\n",
       "      <th>3</th>\n",
       "      <td>6.3</td>\n",
       "      <td>2.3</td>\n",
       "      <td>4.4</td>\n",
       "      <td>1.3</td>\n",
       "      <td>versicolor</td>\n",
       "    </tr>\n",
       "    <tr>\n",
       "      <th>4</th>\n",
       "      <td>4.6</td>\n",
       "      <td>3.6</td>\n",
       "      <td>1.0</td>\n",
       "      <td>0.2</td>\n",
       "      <td>setosa</td>\n",
       "    </tr>\n",
       "  </tbody>\n",
       "</table>\n",
       "</div>"
      ],
      "text/plain": [
       "   sepal_length  sepal_width  petal_length  petal_width     species\n",
       "0           6.7          3.1           4.7          1.5  versicolor\n",
       "1           6.6          3.0           4.4          1.4  versicolor\n",
       "2           4.6          3.2           1.4          0.2      setosa\n",
       "3           6.3          2.3           4.4          1.3  versicolor\n",
       "4           4.6          3.6           1.0          0.2      setosa"
      ]
     },
     "execution_count": 5,
     "metadata": {},
     "output_type": "execute_result"
    }
   ],
   "source": [
    "data = pd.read_csv('iris150.csv')\n",
    "data.head()"
   ]
  },
  {
   "cell_type": "markdown",
   "id": "e9eb7800",
   "metadata": {},
   "source": [
    "## Spliting data into training and test data where test data =30%"
   ]
  },
  {
   "cell_type": "code",
   "execution_count": 6,
   "id": "a25cb89e",
   "metadata": {},
   "outputs": [],
   "source": [
    "training = data [:105]\n",
    "test = data[105:]"
   ]
  },
  {
   "cell_type": "markdown",
   "id": "d6853277",
   "metadata": {},
   "source": [
    "## Creating feature , target and test variables"
   ]
  },
  {
   "cell_type": "code",
   "execution_count": 7,
   "id": "2ecb06bf",
   "metadata": {},
   "outputs": [],
   "source": [
    "features = list(zip(training['sepal_length'], training['sepal_width'], \n",
    "                    training['petal_length'], training['petal_width']))\n",
    "\n",
    "target = list(training['species'])\n",
    "\n",
    "testValues = list(zip(test['sepal_length'], test['sepal_width'],\n",
    "                      test['petal_length'], test['petal_width']))"
   ]
  },
  {
   "cell_type": "markdown",
   "id": "24da0d6c",
   "metadata": {},
   "source": [
    "## Generating a k-NN model using K=7 neighbors’ values & The default metric is minkowski, with p=2 is equivalent to the standard Euclidean metric\n",
    "## and fiting the data into the model"
   ]
  },
  {
   "cell_type": "code",
   "execution_count": 8,
   "id": "0077a1ed",
   "metadata": {},
   "outputs": [],
   "source": [
    "model1 = KNeighborsClassifier(n_neighbors= 7)\n",
    "model1.fit(features,target);"
   ]
  },
  {
   "cell_type": "markdown",
   "id": "d3c11687",
   "metadata": {},
   "source": [
    "## Testing the model using the test dataset that we made and adding the result to the test DataFrame"
   ]
  },
  {
   "cell_type": "code",
   "execution_count": 9,
   "id": "796f004e",
   "metadata": {},
   "outputs": [],
   "source": [
    "def addTestCol(model,col_name):\n",
    "    '''\n",
    "    Taking the model and new data frame column name\n",
    "    predicting all test values using the input model and\n",
    "    inserting the predicted results in the test data frame with the input column  name\n",
    "    '''\n",
    "    predictedTest = []\n",
    "    for i in testValues:\n",
    "        predictedTest.append(str(model.predict([(i)])).strip('[').strip(']').strip(\"'\"))\n",
    "        \n",
    "    test.insert(test.shape[1], col_name,predictedTest)"
   ]
  },
  {
   "cell_type": "code",
   "execution_count": 10,
   "id": "cfedb655",
   "metadata": {},
   "outputs": [],
   "source": [
    "addTestCol(model1,'predicted_m1')    "
   ]
  },
  {
   "cell_type": "code",
   "execution_count": 11,
   "id": "8e54597b",
   "metadata": {},
   "outputs": [
    {
     "data": {
      "text/html": [
       "<div>\n",
       "<style scoped>\n",
       "    .dataframe tbody tr th:only-of-type {\n",
       "        vertical-align: middle;\n",
       "    }\n",
       "\n",
       "    .dataframe tbody tr th {\n",
       "        vertical-align: top;\n",
       "    }\n",
       "\n",
       "    .dataframe thead th {\n",
       "        text-align: right;\n",
       "    }\n",
       "</style>\n",
       "<table border=\"1\" class=\"dataframe\">\n",
       "  <thead>\n",
       "    <tr style=\"text-align: right;\">\n",
       "      <th></th>\n",
       "      <th>sepal_length</th>\n",
       "      <th>sepal_width</th>\n",
       "      <th>petal_length</th>\n",
       "      <th>petal_width</th>\n",
       "      <th>species</th>\n",
       "      <th>predicted_m1</th>\n",
       "    </tr>\n",
       "  </thead>\n",
       "  <tbody>\n",
       "    <tr>\n",
       "      <th>105</th>\n",
       "      <td>6.3</td>\n",
       "      <td>3.4</td>\n",
       "      <td>5.6</td>\n",
       "      <td>2.4</td>\n",
       "      <td>virginica</td>\n",
       "      <td>virginica</td>\n",
       "    </tr>\n",
       "    <tr>\n",
       "      <th>106</th>\n",
       "      <td>4.8</td>\n",
       "      <td>3.1</td>\n",
       "      <td>1.6</td>\n",
       "      <td>0.2</td>\n",
       "      <td>setosa</td>\n",
       "      <td>setosa</td>\n",
       "    </tr>\n",
       "    <tr>\n",
       "      <th>107</th>\n",
       "      <td>6.8</td>\n",
       "      <td>3.2</td>\n",
       "      <td>5.9</td>\n",
       "      <td>2.3</td>\n",
       "      <td>virginica</td>\n",
       "      <td>virginica</td>\n",
       "    </tr>\n",
       "    <tr>\n",
       "      <th>108</th>\n",
       "      <td>4.9</td>\n",
       "      <td>2.5</td>\n",
       "      <td>4.5</td>\n",
       "      <td>1.7</td>\n",
       "      <td>virginica</td>\n",
       "      <td>versicolor</td>\n",
       "    </tr>\n",
       "    <tr>\n",
       "      <th>109</th>\n",
       "      <td>6.3</td>\n",
       "      <td>2.7</td>\n",
       "      <td>4.9</td>\n",
       "      <td>1.8</td>\n",
       "      <td>virginica</td>\n",
       "      <td>virginica</td>\n",
       "    </tr>\n",
       "  </tbody>\n",
       "</table>\n",
       "</div>"
      ],
      "text/plain": [
       "     sepal_length  sepal_width  petal_length  petal_width    species  \\\n",
       "105           6.3          3.4           5.6          2.4  virginica   \n",
       "106           4.8          3.1           1.6          0.2     setosa   \n",
       "107           6.8          3.2           5.9          2.3  virginica   \n",
       "108           4.9          2.5           4.5          1.7  virginica   \n",
       "109           6.3          2.7           4.9          1.8  virginica   \n",
       "\n",
       "    predicted_m1  \n",
       "105    virginica  \n",
       "106       setosa  \n",
       "107    virginica  \n",
       "108   versicolor  \n",
       "109    virginica  "
      ]
     },
     "execution_count": 11,
     "metadata": {},
     "output_type": "execute_result"
    }
   ],
   "source": [
    "test.head()"
   ]
  },
  {
   "cell_type": "markdown",
   "id": "38e9c85a",
   "metadata": {},
   "source": [
    "## Calculating the accuracy for the K-nn model using k = 7,  metric = Euclidean  "
   ]
  },
  {
   "cell_type": "code",
   "execution_count": 12,
   "id": "8c9b7f8e",
   "metadata": {},
   "outputs": [],
   "source": [
    "def accuracy (modelColName):\n",
    "    '''\n",
    "    Taking model column name in the test D.F and\n",
    "    calculating the accuracy of that model\n",
    "    '''\n",
    "    acc = (test.query('species == {}'.format(modelColName)).shape[0] / test.shape[0]) * 100\n",
    "    return acc"
   ]
  },
  {
   "cell_type": "code",
   "execution_count": 13,
   "id": "eaa765cb",
   "metadata": {},
   "outputs": [
    {
     "data": {
      "text/plain": [
       "93.33333333333333"
      ]
     },
     "execution_count": 13,
     "metadata": {},
     "output_type": "execute_result"
    }
   ],
   "source": [
    "acc1 = accuracy('predicted_m1')\n",
    "acc1"
   ]
  },
  {
   "cell_type": "markdown",
   "id": "62555b8c",
   "metadata": {},
   "source": [
    "## Generating a k-NN model using K=7 neighbors’ values  metric  = Manhattan\n",
    "## and fiting the data into the model"
   ]
  },
  {
   "cell_type": "code",
   "execution_count": 14,
   "id": "d354cf79",
   "metadata": {},
   "outputs": [],
   "source": [
    "model_m = KNeighborsClassifier(n_neighbors= 7, metric = 'manhattan')\n",
    "model_m.fit(features,target);"
   ]
  },
  {
   "cell_type": "markdown",
   "id": "14d7e5a1",
   "metadata": {},
   "source": [
    "## Calculating the accuracy of the model"
   ]
  },
  {
   "cell_type": "code",
   "execution_count": 15,
   "id": "431ed93b",
   "metadata": {},
   "outputs": [
    {
     "data": {
      "text/plain": [
       "93.33333333333333"
      ]
     },
     "execution_count": 15,
     "metadata": {},
     "output_type": "execute_result"
    }
   ],
   "source": [
    "addTestCol(model_m,'predicted_m2')\n",
    "acc2 = accuracy('predicted_m2')\n",
    "acc2"
   ]
  },
  {
   "cell_type": "code",
   "execution_count": 16,
   "id": "12f26a49",
   "metadata": {
    "scrolled": true
   },
   "outputs": [
    {
     "data": {
      "text/html": [
       "<div>\n",
       "<style scoped>\n",
       "    .dataframe tbody tr th:only-of-type {\n",
       "        vertical-align: middle;\n",
       "    }\n",
       "\n",
       "    .dataframe tbody tr th {\n",
       "        vertical-align: top;\n",
       "    }\n",
       "\n",
       "    .dataframe thead th {\n",
       "        text-align: right;\n",
       "    }\n",
       "</style>\n",
       "<table border=\"1\" class=\"dataframe\">\n",
       "  <thead>\n",
       "    <tr style=\"text-align: right;\">\n",
       "      <th></th>\n",
       "      <th>sepal_length</th>\n",
       "      <th>sepal_width</th>\n",
       "      <th>petal_length</th>\n",
       "      <th>petal_width</th>\n",
       "      <th>species</th>\n",
       "      <th>predicted_m1</th>\n",
       "      <th>predicted_m2</th>\n",
       "    </tr>\n",
       "  </thead>\n",
       "  <tbody>\n",
       "    <tr>\n",
       "      <th>105</th>\n",
       "      <td>6.3</td>\n",
       "      <td>3.4</td>\n",
       "      <td>5.6</td>\n",
       "      <td>2.4</td>\n",
       "      <td>virginica</td>\n",
       "      <td>virginica</td>\n",
       "      <td>virginica</td>\n",
       "    </tr>\n",
       "    <tr>\n",
       "      <th>106</th>\n",
       "      <td>4.8</td>\n",
       "      <td>3.1</td>\n",
       "      <td>1.6</td>\n",
       "      <td>0.2</td>\n",
       "      <td>setosa</td>\n",
       "      <td>setosa</td>\n",
       "      <td>setosa</td>\n",
       "    </tr>\n",
       "    <tr>\n",
       "      <th>107</th>\n",
       "      <td>6.8</td>\n",
       "      <td>3.2</td>\n",
       "      <td>5.9</td>\n",
       "      <td>2.3</td>\n",
       "      <td>virginica</td>\n",
       "      <td>virginica</td>\n",
       "      <td>virginica</td>\n",
       "    </tr>\n",
       "    <tr>\n",
       "      <th>108</th>\n",
       "      <td>4.9</td>\n",
       "      <td>2.5</td>\n",
       "      <td>4.5</td>\n",
       "      <td>1.7</td>\n",
       "      <td>virginica</td>\n",
       "      <td>versicolor</td>\n",
       "      <td>versicolor</td>\n",
       "    </tr>\n",
       "    <tr>\n",
       "      <th>109</th>\n",
       "      <td>6.3</td>\n",
       "      <td>2.7</td>\n",
       "      <td>4.9</td>\n",
       "      <td>1.8</td>\n",
       "      <td>virginica</td>\n",
       "      <td>virginica</td>\n",
       "      <td>virginica</td>\n",
       "    </tr>\n",
       "  </tbody>\n",
       "</table>\n",
       "</div>"
      ],
      "text/plain": [
       "     sepal_length  sepal_width  petal_length  petal_width    species  \\\n",
       "105           6.3          3.4           5.6          2.4  virginica   \n",
       "106           4.8          3.1           1.6          0.2     setosa   \n",
       "107           6.8          3.2           5.9          2.3  virginica   \n",
       "108           4.9          2.5           4.5          1.7  virginica   \n",
       "109           6.3          2.7           4.9          1.8  virginica   \n",
       "\n",
       "    predicted_m1 predicted_m2  \n",
       "105    virginica    virginica  \n",
       "106       setosa       setosa  \n",
       "107    virginica    virginica  \n",
       "108   versicolor   versicolor  \n",
       "109    virginica    virginica  "
      ]
     },
     "execution_count": 16,
     "metadata": {},
     "output_type": "execute_result"
    }
   ],
   "source": [
    "test.head()"
   ]
  },
  {
   "cell_type": "markdown",
   "id": "1c4ffd9e",
   "metadata": {},
   "source": [
    "## Visualising the difference"
   ]
  },
  {
   "cell_type": "code",
   "execution_count": 17,
   "id": "a4da3a41",
   "metadata": {},
   "outputs": [
    {
     "data": {
      "image/png": "[encoded data removed]",
      "text/plain": [
       "<Figure size 432x288 with 1 Axes>"
      ]
     },
     "metadata": {},
     "output_type": "display_data"
    }
   ],
   "source": [
    "plt.title('Accuracy comparison betwen Euclidean and Manhattan distance')\n",
    "plt.bar(x =['predicted_m1','predicted_m2'],height = [acc1,acc2],width=0.3,color = ['b','r']);"
   ]
  },
  {
   "cell_type": "markdown",
   "id": "de1aa7c7",
   "metadata": {},
   "source": [
    "## creating a list of different models with k in range[1:45] and euclidean distance and ploting the results"
   ]
  },
  {
   "cell_type": "code",
   "execution_count": 18,
   "id": "f76ab735",
   "metadata": {},
   "outputs": [],
   "source": [
    "Nmodels = []\n",
    "accList = []\n",
    "for i in range (45):\n",
    "    Nmodels.append(KNeighborsClassifier(n_neighbors = i+1))\n",
    "    Nmodels[i].fit(features,target)\n",
    "    addTestCol(Nmodels[i],f'k{i+1}')\n",
    "    acc = accuracy(f'k{i+1}')\n",
    "    accList.append(acc)"
   ]
  },
  {
   "cell_type": "code",
   "execution_count": 19,
   "id": "75695c4e",
   "metadata": {},
   "outputs": [
    {
     "data": {
      "text/html": [
       "<div>\n",
       "<style scoped>\n",
       "    .dataframe tbody tr th:only-of-type {\n",
       "        vertical-align: middle;\n",
       "    }\n",
       "\n",
       "    .dataframe tbody tr th {\n",
       "        vertical-align: top;\n",
       "    }\n",
       "\n",
       "    .dataframe thead th {\n",
       "        text-align: right;\n",
       "    }\n",
       "</style>\n",
       "<table border=\"1\" class=\"dataframe\">\n",
       "  <thead>\n",
       "    <tr style=\"text-align: right;\">\n",
       "      <th></th>\n",
       "      <th>sepal_length</th>\n",
       "      <th>sepal_width</th>\n",
       "      <th>petal_length</th>\n",
       "      <th>petal_width</th>\n",
       "      <th>species</th>\n",
       "      <th>predicted_m1</th>\n",
       "      <th>predicted_m2</th>\n",
       "      <th>k1</th>\n",
       "      <th>k2</th>\n",
       "      <th>k3</th>\n",
       "      <th>...</th>\n",
       "      <th>k36</th>\n",
       "      <th>k37</th>\n",
       "      <th>k38</th>\n",
       "      <th>k39</th>\n",
       "      <th>k40</th>\n",
       "      <th>k41</th>\n",
       "      <th>k42</th>\n",
       "      <th>k43</th>\n",
       "      <th>k44</th>\n",
       "      <th>k45</th>\n",
       "    </tr>\n",
       "  </thead>\n",
       "  <tbody>\n",
       "    <tr>\n",
       "      <th>105</th>\n",
       "      <td>6.3</td>\n",
       "      <td>3.4</td>\n",
       "      <td>5.6</td>\n",
       "      <td>2.4</td>\n",
       "      <td>virginica</td>\n",
       "      <td>virginica</td>\n",
       "      <td>virginica</td>\n",
       "      <td>virginica</td>\n",
       "      <td>virginica</td>\n",
       "      <td>virginica</td>\n",
       "      <td>...</td>\n",
       "      <td>virginica</td>\n",
       "      <td>virginica</td>\n",
       "      <td>virginica</td>\n",
       "      <td>virginica</td>\n",
       "      <td>virginica</td>\n",
       "      <td>virginica</td>\n",
       "      <td>virginica</td>\n",
       "      <td>virginica</td>\n",
       "      <td>virginica</td>\n",
       "      <td>virginica</td>\n",
       "    </tr>\n",
       "    <tr>\n",
       "      <th>106</th>\n",
       "      <td>4.8</td>\n",
       "      <td>3.1</td>\n",
       "      <td>1.6</td>\n",
       "      <td>0.2</td>\n",
       "      <td>setosa</td>\n",
       "      <td>setosa</td>\n",
       "      <td>setosa</td>\n",
       "      <td>setosa</td>\n",
       "      <td>setosa</td>\n",
       "      <td>setosa</td>\n",
       "      <td>...</td>\n",
       "      <td>setosa</td>\n",
       "      <td>setosa</td>\n",
       "      <td>setosa</td>\n",
       "      <td>setosa</td>\n",
       "      <td>setosa</td>\n",
       "      <td>setosa</td>\n",
       "      <td>setosa</td>\n",
       "      <td>setosa</td>\n",
       "      <td>setosa</td>\n",
       "      <td>setosa</td>\n",
       "    </tr>\n",
       "    <tr>\n",
       "      <th>107</th>\n",
       "      <td>6.8</td>\n",
       "      <td>3.2</td>\n",
       "      <td>5.9</td>\n",
       "      <td>2.3</td>\n",
       "      <td>virginica</td>\n",
       "      <td>virginica</td>\n",
       "      <td>virginica</td>\n",
       "      <td>virginica</td>\n",
       "      <td>virginica</td>\n",
       "      <td>virginica</td>\n",
       "      <td>...</td>\n",
       "      <td>virginica</td>\n",
       "      <td>virginica</td>\n",
       "      <td>virginica</td>\n",
       "      <td>virginica</td>\n",
       "      <td>virginica</td>\n",
       "      <td>virginica</td>\n",
       "      <td>virginica</td>\n",
       "      <td>virginica</td>\n",
       "      <td>virginica</td>\n",
       "      <td>virginica</td>\n",
       "    </tr>\n",
       "    <tr>\n",
       "      <th>108</th>\n",
       "      <td>4.9</td>\n",
       "      <td>2.5</td>\n",
       "      <td>4.5</td>\n",
       "      <td>1.7</td>\n",
       "      <td>virginica</td>\n",
       "      <td>versicolor</td>\n",
       "      <td>versicolor</td>\n",
       "      <td>versicolor</td>\n",
       "      <td>versicolor</td>\n",
       "      <td>versicolor</td>\n",
       "      <td>...</td>\n",
       "      <td>versicolor</td>\n",
       "      <td>versicolor</td>\n",
       "      <td>versicolor</td>\n",
       "      <td>versicolor</td>\n",
       "      <td>versicolor</td>\n",
       "      <td>versicolor</td>\n",
       "      <td>versicolor</td>\n",
       "      <td>versicolor</td>\n",
       "      <td>versicolor</td>\n",
       "      <td>versicolor</td>\n",
       "    </tr>\n",
       "    <tr>\n",
       "      <th>109</th>\n",
       "      <td>6.3</td>\n",
       "      <td>2.7</td>\n",
       "      <td>4.9</td>\n",
       "      <td>1.8</td>\n",
       "      <td>virginica</td>\n",
       "      <td>virginica</td>\n",
       "      <td>virginica</td>\n",
       "      <td>virginica</td>\n",
       "      <td>virginica</td>\n",
       "      <td>virginica</td>\n",
       "      <td>...</td>\n",
       "      <td>virginica</td>\n",
       "      <td>virginica</td>\n",
       "      <td>virginica</td>\n",
       "      <td>virginica</td>\n",
       "      <td>virginica</td>\n",
       "      <td>virginica</td>\n",
       "      <td>virginica</td>\n",
       "      <td>virginica</td>\n",
       "      <td>virginica</td>\n",
       "      <td>virginica</td>\n",
       "    </tr>\n",
       "  </tbody>\n",
       "</table>\n",
       "<p>5 rows × 52 columns</p>\n",
       "</div>"
      ],
      "text/plain": [
       "     sepal_length  sepal_width  petal_length  petal_width    species  \\\n",
       "105           6.3          3.4           5.6          2.4  virginica   \n",
       "106           4.8          3.1           1.6          0.2     setosa   \n",
       "107           6.8          3.2           5.9          2.3  virginica   \n",
       "108           4.9          2.5           4.5          1.7  virginica   \n",
       "109           6.3          2.7           4.9          1.8  virginica   \n",
       "\n",
       "    predicted_m1 predicted_m2          k1          k2          k3  ...  \\\n",
       "105    virginica    virginica   virginica   virginica   virginica  ...   \n",
       "106       setosa       setosa      setosa      setosa      setosa  ...   \n",
       "107    virginica    virginica   virginica   virginica   virginica  ...   \n",
       "108   versicolor   versicolor  versicolor  versicolor  versicolor  ...   \n",
       "109    virginica    virginica   virginica   virginica   virginica  ...   \n",
       "\n",
       "            k36         k37         k38         k39         k40         k41  \\\n",
       "105   virginica   virginica   virginica   virginica   virginica   virginica   \n",
       "106      setosa      setosa      setosa      setosa      setosa      setosa   \n",
       "107   virginica   virginica   virginica   virginica   virginica   virginica   \n",
       "108  versicolor  versicolor  versicolor  versicolor  versicolor  versicolor   \n",
       "109   virginica   virginica   virginica   virginica   virginica   virginica   \n",
       "\n",
       "            k42         k43         k44         k45  \n",
       "105   virginica   virginica   virginica   virginica  \n",
       "106      setosa      setosa      setosa      setosa  \n",
       "107   virginica   virginica   virginica   virginica  \n",
       "108  versicolor  versicolor  versicolor  versicolor  \n",
       "109   virginica   virginica   virginica   virginica  \n",
       "\n",
       "[5 rows x 52 columns]"
      ]
     },
     "execution_count": 19,
     "metadata": {},
     "output_type": "execute_result"
    }
   ],
   "source": [
    "test.head()"
   ]
  },
  {
   "cell_type": "code",
   "execution_count": 20,
   "id": "9c297a1c",
   "metadata": {
    "scrolled": false
   },
   "outputs": [
    {
     "data": {
      "image/png": "[encoded data removed]",
      "text/plain": [
       "<Figure size 720x360 with 1 Axes>"
      ]
     },
     "metadata": {},
     "output_type": "display_data"
    }
   ],
   "source": [
    "plt.figure(figsize=(10,5))\n",
    "plt.title('The relationship between n# neighbors ana model accuracy whith standerd metric')\n",
    "plt.xlabel('n# neighbors')\n",
    "plt.ylabel('model accuracy %')\n",
    "plt.plot([x for x in range(1,46)],accList,'b');"
   ]
  },
  {
   "cell_type": "markdown",
   "id": "791f75de",
   "metadata": {},
   "source": [
    "## creating a list of different models with k in range[1:45] and manhattan distance and ploting the results"
   ]
  },
  {
   "cell_type": "code",
   "execution_count": 21,
   "id": "9d952abb",
   "metadata": {},
   "outputs": [],
   "source": [
    "Nmodels_m = []\n",
    "accList_m = []\n",
    "for i in range (45):\n",
    "    Nmodels_m.append(KNeighborsClassifier(n_neighbors = i+1, metric='manhattan'))\n",
    "    Nmodels_m[i].fit(features,target)\n",
    "    addTestCol(Nmodels_m[i],f'k_m{i+1}') # _m standes for manhattan\n",
    "    acc = accuracy(f'k_m{i+1}')\n",
    "    accList_m.append(acc)"
   ]
  },
  {
   "cell_type": "code",
   "execution_count": 22,
   "id": "54ddac62",
   "metadata": {},
   "outputs": [
    {
     "data": {
      "text/html": [
       "<div>\n",
       "<style scoped>\n",
       "    .dataframe tbody tr th:only-of-type {\n",
       "        vertical-align: middle;\n",
       "    }\n",
       "\n",
       "    .dataframe tbody tr th {\n",
       "        vertical-align: top;\n",
       "    }\n",
       "\n",
       "    .dataframe thead th {\n",
       "        text-align: right;\n",
       "    }\n",
       "</style>\n",
       "<table border=\"1\" class=\"dataframe\">\n",
       "  <thead>\n",
       "    <tr style=\"text-align: right;\">\n",
       "      <th></th>\n",
       "      <th>sepal_length</th>\n",
       "      <th>sepal_width</th>\n",
       "      <th>petal_length</th>\n",
       "      <th>petal_width</th>\n",
       "      <th>species</th>\n",
       "      <th>predicted_m1</th>\n",
       "      <th>predicted_m2</th>\n",
       "      <th>k1</th>\n",
       "      <th>k2</th>\n",
       "      <th>k3</th>\n",
       "      <th>...</th>\n",
       "      <th>k_m36</th>\n",
       "      <th>k_m37</th>\n",
       "      <th>k_m38</th>\n",
       "      <th>k_m39</th>\n",
       "      <th>k_m40</th>\n",
       "      <th>k_m41</th>\n",
       "      <th>k_m42</th>\n",
       "      <th>k_m43</th>\n",
       "      <th>k_m44</th>\n",
       "      <th>k_m45</th>\n",
       "    </tr>\n",
       "  </thead>\n",
       "  <tbody>\n",
       "    <tr>\n",
       "      <th>105</th>\n",
       "      <td>6.3</td>\n",
       "      <td>3.4</td>\n",
       "      <td>5.6</td>\n",
       "      <td>2.4</td>\n",
       "      <td>virginica</td>\n",
       "      <td>virginica</td>\n",
       "      <td>virginica</td>\n",
       "      <td>virginica</td>\n",
       "      <td>virginica</td>\n",
       "      <td>virginica</td>\n",
       "      <td>...</td>\n",
       "      <td>virginica</td>\n",
       "      <td>virginica</td>\n",
       "      <td>virginica</td>\n",
       "      <td>virginica</td>\n",
       "      <td>virginica</td>\n",
       "      <td>virginica</td>\n",
       "      <td>virginica</td>\n",
       "      <td>virginica</td>\n",
       "      <td>virginica</td>\n",
       "      <td>virginica</td>\n",
       "    </tr>\n",
       "    <tr>\n",
       "      <th>106</th>\n",
       "      <td>4.8</td>\n",
       "      <td>3.1</td>\n",
       "      <td>1.6</td>\n",
       "      <td>0.2</td>\n",
       "      <td>setosa</td>\n",
       "      <td>setosa</td>\n",
       "      <td>setosa</td>\n",
       "      <td>setosa</td>\n",
       "      <td>setosa</td>\n",
       "      <td>setosa</td>\n",
       "      <td>...</td>\n",
       "      <td>setosa</td>\n",
       "      <td>setosa</td>\n",
       "      <td>setosa</td>\n",
       "      <td>setosa</td>\n",
       "      <td>setosa</td>\n",
       "      <td>setosa</td>\n",
       "      <td>setosa</td>\n",
       "      <td>setosa</td>\n",
       "      <td>setosa</td>\n",
       "      <td>setosa</td>\n",
       "    </tr>\n",
       "    <tr>\n",
       "      <th>107</th>\n",
       "      <td>6.8</td>\n",
       "      <td>3.2</td>\n",
       "      <td>5.9</td>\n",
       "      <td>2.3</td>\n",
       "      <td>virginica</td>\n",
       "      <td>virginica</td>\n",
       "      <td>virginica</td>\n",
       "      <td>virginica</td>\n",
       "      <td>virginica</td>\n",
       "      <td>virginica</td>\n",
       "      <td>...</td>\n",
       "      <td>virginica</td>\n",
       "      <td>virginica</td>\n",
       "      <td>virginica</td>\n",
       "      <td>virginica</td>\n",
       "      <td>virginica</td>\n",
       "      <td>virginica</td>\n",
       "      <td>virginica</td>\n",
       "      <td>virginica</td>\n",
       "      <td>virginica</td>\n",
       "      <td>virginica</td>\n",
       "    </tr>\n",
       "    <tr>\n",
       "      <th>108</th>\n",
       "      <td>4.9</td>\n",
       "      <td>2.5</td>\n",
       "      <td>4.5</td>\n",
       "      <td>1.7</td>\n",
       "      <td>virginica</td>\n",
       "      <td>versicolor</td>\n",
       "      <td>versicolor</td>\n",
       "      <td>versicolor</td>\n",
       "      <td>versicolor</td>\n",
       "      <td>versicolor</td>\n",
       "      <td>...</td>\n",
       "      <td>versicolor</td>\n",
       "      <td>versicolor</td>\n",
       "      <td>versicolor</td>\n",
       "      <td>versicolor</td>\n",
       "      <td>versicolor</td>\n",
       "      <td>versicolor</td>\n",
       "      <td>versicolor</td>\n",
       "      <td>versicolor</td>\n",
       "      <td>versicolor</td>\n",
       "      <td>versicolor</td>\n",
       "    </tr>\n",
       "    <tr>\n",
       "      <th>109</th>\n",
       "      <td>6.3</td>\n",
       "      <td>2.7</td>\n",
       "      <td>4.9</td>\n",
       "      <td>1.8</td>\n",
       "      <td>virginica</td>\n",
       "      <td>virginica</td>\n",
       "      <td>virginica</td>\n",
       "      <td>virginica</td>\n",
       "      <td>virginica</td>\n",
       "      <td>virginica</td>\n",
       "      <td>...</td>\n",
       "      <td>virginica</td>\n",
       "      <td>virginica</td>\n",
       "      <td>virginica</td>\n",
       "      <td>virginica</td>\n",
       "      <td>virginica</td>\n",
       "      <td>virginica</td>\n",
       "      <td>virginica</td>\n",
       "      <td>virginica</td>\n",
       "      <td>virginica</td>\n",
       "      <td>virginica</td>\n",
       "    </tr>\n",
       "  </tbody>\n",
       "</table>\n",
       "<p>5 rows × 97 columns</p>\n",
       "</div>"
      ],
      "text/plain": [
       "     sepal_length  sepal_width  petal_length  petal_width    species  \\\n",
       "105           6.3          3.4           5.6          2.4  virginica   \n",
       "106           4.8          3.1           1.6          0.2     setosa   \n",
       "107           6.8          3.2           5.9          2.3  virginica   \n",
       "108           4.9          2.5           4.5          1.7  virginica   \n",
       "109           6.3          2.7           4.9          1.8  virginica   \n",
       "\n",
       "    predicted_m1 predicted_m2          k1          k2          k3  ...  \\\n",
       "105    virginica    virginica   virginica   virginica   virginica  ...   \n",
       "106       setosa       setosa      setosa      setosa      setosa  ...   \n",
       "107    virginica    virginica   virginica   virginica   virginica  ...   \n",
       "108   versicolor   versicolor  versicolor  versicolor  versicolor  ...   \n",
       "109    virginica    virginica   virginica   virginica   virginica  ...   \n",
       "\n",
       "          k_m36       k_m37       k_m38       k_m39       k_m40       k_m41  \\\n",
       "105   virginica   virginica   virginica   virginica   virginica   virginica   \n",
       "106      setosa      setosa      setosa      setosa      setosa      setosa   \n",
       "107   virginica   virginica   virginica   virginica   virginica   virginica   \n",
       "108  versicolor  versicolor  versicolor  versicolor  versicolor  versicolor   \n",
       "109   virginica   virginica   virginica   virginica   virginica   virginica   \n",
       "\n",
       "          k_m42       k_m43       k_m44       k_m45  \n",
       "105   virginica   virginica   virginica   virginica  \n",
       "106      setosa      setosa      setosa      setosa  \n",
       "107   virginica   virginica   virginica   virginica  \n",
       "108  versicolor  versicolor  versicolor  versicolor  \n",
       "109   virginica   virginica   virginica   virginica  \n",
       "\n",
       "[5 rows x 97 columns]"
      ]
     },
     "execution_count": 22,
     "metadata": {},
     "output_type": "execute_result"
    }
   ],
   "source": [
    "test.head()"
   ]
  },
  {
   "cell_type": "code",
   "execution_count": 23,
   "id": "6e0caf2b",
   "metadata": {
    "scrolled": true
   },
   "outputs": [
    {
     "data": {
      "image/png": "[encoded data removed]",
      "text/plain": [
       "<Figure size 720x360 with 1 Axes>"
      ]
     },
     "metadata": {},
     "output_type": "display_data"
    }
   ],
   "source": [
    "plt.figure(figsize=(10,5))\n",
    "plt.title('The relationship between n# neighbors ana model accuracy whith manhattan metric')\n",
    "plt.xlabel('n# neighbors')\n",
    "plt.ylabel('model accuracy %')\n",
    "plt.plot([x for x in range(1,46)],accList_m , color = 'r');"
   ]
  },
  {
   "cell_type": "markdown",
   "id": "3cc819c1",
   "metadata": {},
   "source": [
    "## Ploting the results between Manhattan and Euclidean distance"
   ]
  },
  {
   "cell_type": "code",
   "execution_count": 24,
   "id": "a06fb661",
   "metadata": {},
   "outputs": [
    {
     "data": {
      "image/png": "[encoded data removed]",
      "text/plain": [
       "<Figure size 1440x504 with 1 Axes>"
      ]
     },
     "metadata": {},
     "output_type": "display_data"
    }
   ],
   "source": [
    "plt.figure(figsize=(20,7))\n",
    "plt.title('Comparing the results between Manhattan and Euclidean distance with different K values')\n",
    "plt.xlabel('n# neighbors')\n",
    "plt.ylabel('model accuracy %')\n",
    "plt.plot([x for x in range(1,46)],accList,'blue',alpha = 0.8)\n",
    "plt.plot([x for x in range(1,46)],accList_m , color = 'r')\n",
    "plt.legend(['Euclidean','Manhattan']);"
   ]
  },
  {
   "cell_type": "code",
   "execution_count": null,
   "id": "3553d26c",
   "metadata": {},
   "outputs": [],
   "source": []
  },
  {
   "cell_type": "code",
   "execution_count": null,
   "id": "bee1ad71",
   "metadata": {},
   "outputs": [],
   "source": []
  }
 ],
 "metadata": {
  "kernelspec": {
   "display_name": "Python 3 (ipykernel)",
   "language": "python",
   "name": "python3"
  },
  "language_info": {
   "codemirror_mode": {
    "name": "ipython",
    "version": 3
   },
   "file_extension": ".py",
   "mimetype": "text/x-python",
   "name": "python",
   "nbconvert_exporter": "python",
   "pygments_lexer": "ipython3",
   "version": "3.9.7"
  }
 },
 "nbformat": 4,
 "nbformat_minor": 5
}
